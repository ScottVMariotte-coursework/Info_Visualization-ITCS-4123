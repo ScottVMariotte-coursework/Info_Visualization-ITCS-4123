{
 "cells": [
  {
   "cell_type": "code",
   "execution_count": 7,
   "metadata": {},
   "outputs": [],
   "source": [
    "file = open(\"counties.csv\", \"r\")\n",
    "\n",
    "max_value = 0\n",
    "\n",
    "List_values_population=[]\n",
    "\n",
    "c = 0\n",
    "for line in file:\n",
    "    if(c == 0):\n",
    "        c+=1\n",
    "    else:\n",
    "        line = line.split(\",\")\n",
    "\n",
    "        List_values_population.append(line[6])\n",
    "        c+=1\n",
    "        \n",
    "file.close()"
   ]
  },
  {
   "cell_type": "code",
   "execution_count": 19,
   "metadata": {},
   "outputs": [
    {
     "name": "stdout",
     "output_type": "stream",
     "text": [
      "['80.0', '62.0', '80.0', '62.0', '73.0', '85.0', '91.0', '73.0', '62.0', '56.0', '72.0', '70.0', '62.0', '43.0', '42.0', '48.0', '65.0', '48.0', '47.0', '38.0', '31.0\\n']\n"
     ]
    }
   ],
   "source": [
    "file = open(\"hospital_visits.csv\", \"r\")\n",
    "\n",
    "list_FIPS =[]\n",
    "List_values=[]\n",
    "\n",
    "c = 0\n",
    "for line in file:\n",
    "    if(c == 0):\n",
    "        c+=1\n",
    "    else:\n",
    "        line = line.split(\",\")\n",
    "        list_FIPS.append(line[0])\n",
    "        List_values.append(line[1:])\n",
    "        c+=1\n",
    "        \n",
    "file.close()\n",
    "print(List_values[0])"
   ]
  },
  {
   "cell_type": "code",
   "execution_count": 46,
   "metadata": {},
   "outputs": [
    {
     "name": "stdout",
     "output_type": "stream",
     "text": [
      "[0.008042625917362019, 0.006233035085955564, 0.008042625917362019, 0.006233035085955564, 0.007338896149592842, 0.008545290037197145, 0.009148486980999296, 0.007338896149592842, 0.006233035085955564, 0.005629838142153413, 0.0072383633256258165, 0.007037297677691766, 0.006233035085955564, 0.004322911430582085, 0.00422237860661506, 0.004825575550417211, 0.00653463355785664, 0.004825575550417211, 0.004725042726450186, 0.0038202473107469587, 0.003116517542977782]\n",
      "['80.0', '62.0', '80.0', '62.0', '73.0', '85.0', '91.0', '73.0', '62.0', '56.0', '72.0', '70.0', '62.0', '43.0', '42.0', '48.0', '65.0', '48.0', '47.0', '38.0', '31.0\\n']\n"
     ]
    }
   ],
   "source": [
    "list_values_normalized = []\n",
    "max_value = 0\n",
    "for row in List_values: \n",
    "    for value in row:\n",
    "        max_value = ((value > max_value) * value) + ((value <= max_value) * max_value)\n",
    "    \n",
    "for row in List_values:\n",
    "    listRow = []\n",
    "    for value in row:\n",
    "        listRow.append(float(value) / max_value)\n",
    "    list_values_normalized.append(listRow)"
   ]
  },
  {
   "cell_type": "code",
   "execution_count": 47,
   "metadata": {},
   "outputs": [],
   "source": [
    "file = open(\"hospital_visits_Normalized.csv\", \"w\")\n",
    "\n",
    "for i in range(len(list_values_normalized)):\n",
    "    FIPS = list_FIPS[i]\n",
    "    file.write(FIPS + ',')\n",
    "    \n",
    "    row = list_values_normalized[i]\n",
    "    for value in row:\n",
    "        file.write(str(value) + ',')\n",
    "    file.write(\"\\n\")\n",
    "file.close()"
   ]
  },
  {
   "cell_type": "code",
   "execution_count": null,
   "metadata": {},
   "outputs": [],
   "source": []
  }
 ],
 "metadata": {
  "kernelspec": {
   "display_name": "Python 3",
   "language": "python",
   "name": "python3"
  },
  "language_info": {
   "codemirror_mode": {
    "name": "ipython",
    "version": 3
   },
   "file_extension": ".py",
   "mimetype": "text/x-python",
   "name": "python",
   "nbconvert_exporter": "python",
   "pygments_lexer": "ipython3",
   "version": "3.7.4"
  }
 },
 "nbformat": 4,
 "nbformat_minor": 2
}
